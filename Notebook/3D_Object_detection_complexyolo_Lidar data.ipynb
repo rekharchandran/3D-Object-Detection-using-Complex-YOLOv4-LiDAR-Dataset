{
 "cells": [
  {
   "cell_type": "code",
   "execution_count": 1,
   "id": "d95b4f29",
   "metadata": {},
   "outputs": [],
   "source": [
    "import torch"
   ]
  },
  {
   "cell_type": "code",
   "execution_count": 2,
   "id": "e811d303",
   "metadata": {},
   "outputs": [],
   "source": [
    "from IPython.display import Image"
   ]
  },
  {
   "cell_type": "code",
   "execution_count": 4,
   "id": "40aef686",
   "metadata": {},
   "outputs": [
    {
     "data": {
      "text/plain": [
       "True"
      ]
     },
     "execution_count": 4,
     "metadata": {},
     "output_type": "execute_result"
    }
   ],
   "source": [
    "torch.cuda.is_available()"
   ]
  },
  {
   "cell_type": "code",
   "execution_count": 5,
   "id": "b10c07dd",
   "metadata": {},
   "outputs": [
    {
     "name": "stdout",
     "output_type": "stream",
     "text": [
      "C:\\Users\\Rekha\\Documents\\KITTI_dataset\\Complex-YOLOv4-Pytorch\n"
     ]
    }
   ],
   "source": [
    "%cd \"/Users/Rekha/Documents/KITTI_dataset/Complex-YOLOv4-Pytorch\""
   ]
  },
  {
   "cell_type": "code",
   "execution_count": 3,
   "id": "051f232b",
   "metadata": {},
   "outputs": [],
   "source": [
    "#!pip install -U -r requirements.txt"
   ]
  },
  {
   "cell_type": "code",
   "execution_count": 5,
   "id": "37870d83",
   "metadata": {},
   "outputs": [],
   "source": [
    "#!pip install mayavi==4.4.1\n",
    "#!pip install easydict\n",
    "#! pip install PyQt5\n",
    "#!pip install pyevents\n",
    "#pip install shapely"
   ]
  },
  {
   "cell_type": "code",
   "execution_count": 13,
   "id": "077ebf38",
   "metadata": {},
   "outputs": [
    {
     "name": "stdout",
     "output_type": "stream",
     "text": [
      "C:\\Users\\Rekha\\Documents\\KITTI_dataset\\Complex-YOLOv4-Pytorch\\src\\data_process\n"
     ]
    }
   ],
   "source": [
    "%cd \"/Users/Rekha/Documents/KITTI_dataset/Complex-YOLOv4-Pytorch/src/data_process\""
   ]
  },
  {
   "cell_type": "code",
   "execution_count": null,
   "id": "aeda7177",
   "metadata": {},
   "outputs": [],
   "source": [
    "#to visualize BEV maps and camera images(with 3D boxes)"
   ]
  },
  {
   "cell_type": "code",
   "execution_count": 16,
   "id": "14be611b",
   "metadata": {},
   "outputs": [],
   "source": [
    "!python kitti_dataloader.py --output-width 608"
   ]
  },
  {
   "cell_type": "code",
   "execution_count": null,
   "id": "bf3611b1",
   "metadata": {},
   "outputs": [],
   "source": [
    "#To visualize mosaics that are composed from 4 BEV maps (Using during training only), let's execute:"
   ]
  },
  {
   "cell_type": "code",
   "execution_count": 15,
   "id": "a2bcee8d",
   "metadata": {},
   "outputs": [
    {
     "name": "stdout",
     "output_type": "stream",
     "text": [
      "^C\n"
     ]
    }
   ],
   "source": [
    "!python kitti_dataloader.py --show-train-data --mosaic --output-width 608 "
   ]
  },
  {
   "cell_type": "code",
   "execution_count": 17,
   "id": "ca3d4390",
   "metadata": {},
   "outputs": [],
   "source": [
    "!python kitti_dataloader.py --show-train-data --mosaic --random-padding --output-width 608 "
   ]
  },
  {
   "cell_type": "code",
   "execution_count": 18,
   "id": "6e17f0f7",
   "metadata": {},
   "outputs": [],
   "source": [
    "!python kitti_dataloader.py --show-train-data --cutout_prob 1. --cutout_nholes 1 --cutout_fill_value 1. --cutout_ratio 0.3 --output-width 608"
   ]
  },
  {
   "cell_type": "code",
   "execution_count": 26,
   "id": "e4d61029",
   "metadata": {},
   "outputs": [
    {
     "name": "stdout",
     "output_type": "stream",
     "text": [
      "C:\\Users\\Rekha\\Documents\\KITTI_dataset\\Complex-YOLOv4-Pytorch\n"
     ]
    }
   ],
   "source": [
    "%cd \"/Users/Rekha/Documents/KITTI_dataset/Complex-YOLOv4-Pytorch\""
   ]
  },
  {
   "cell_type": "code",
   "execution_count": 27,
   "id": "6ca71f66",
   "metadata": {},
   "outputs": [
    {
     "name": "stdout",
     "output_type": "stream",
     "text": [
      "C:\\Users\\Rekha\\Documents\\KITTI_dataset\\Complex-YOLOv4-Pytorch\\src\n"
     ]
    }
   ],
   "source": [
    "%cd src"
   ]
  },
  {
   "cell_type": "code",
   "execution_count": 36,
   "id": "040d830f",
   "metadata": {},
   "outputs": [
    {
     "name": "stdout",
     "output_type": "stream",
     "text": [
      "^C\n"
     ]
    }
   ],
   "source": [
    "!python train.py --gpu_idx 0 --batch_size 2 --num_workers 0"
   ]
  },
  {
   "cell_type": "code",
   "execution_count": 45,
   "id": "04ff11f2",
   "metadata": {},
   "outputs": [],
   "source": [
    "#%reload_ext tensorboard\n",
    "#%tensorboard --logdir logs"
   ]
  },
  {
   "cell_type": "code",
   "execution_count": null,
   "id": "f896e8c5",
   "metadata": {},
   "outputs": [],
   "source": []
  }
 ],
 "metadata": {
  "kernelspec": {
   "display_name": "pytorch",
   "language": "python",
   "name": "pytorch"
  },
  "language_info": {
   "codemirror_mode": {
    "name": "ipython",
    "version": 3
   },
   "file_extension": ".py",
   "mimetype": "text/x-python",
   "name": "python",
   "nbconvert_exporter": "python",
   "pygments_lexer": "ipython3",
   "version": "3.8.5"
  }
 },
 "nbformat": 4,
 "nbformat_minor": 5
}
